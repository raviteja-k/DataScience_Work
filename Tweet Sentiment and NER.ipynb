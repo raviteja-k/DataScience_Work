{
 "cells": [
  {
   "cell_type": "code",
   "execution_count": 201,
   "metadata": {},
   "outputs": [],
   "source": [
    "import pandas as pd\n",
    "import re\n",
    "import spacy\n",
    "from textblob import TextBlob\n",
    "from nltk.tokenize import word_tokenize\n",
    "from nltk.tokenize import TweetTokenizer\n",
    "from nltk.corpus import stopwords"
   ]
  },
  {
   "cell_type": "markdown",
   "metadata": {},
   "source": [
    "Loading required models and functions"
   ]
  },
  {
   "cell_type": "code",
   "execution_count": null,
   "metadata": {},
   "outputs": [],
   "source": [
    "stop_words = stopwords.words(\"english\")\n",
    "ttk = TweetTokenizer()\n",
    "nlp = spacy.load(\"en\")"
   ]
  },
  {
   "cell_type": "code",
   "execution_count": 129,
   "metadata": {},
   "outputs": [],
   "source": [
    "#tweet_data = pd.read_csv(\"twitterdata.csv\", usecols = [1,2])\n",
    "#tweet_data = tweet_data.dropna(axis = 0, subset = ['post_text'])\n",
    "#tweet_data = tweet_data.reset_index(drop=True)"
   ]
  },
  {
   "cell_type": "markdown",
   "metadata": {},
   "source": [
    "Regex to extract website links, hashtags and mentions from 'post_text'"
   ]
  },
  {
   "cell_type": "code",
   "execution_count": 54,
   "metadata": {},
   "outputs": [],
   "source": [
    "links = re.compile(r\"https?.+\")\n",
    "mentions = re.compile(r\"\\B@([^\\W]+)\")\n",
    "hashtags = re.compile(r\"\\B#([^\\W]+)\")"
   ]
  },
  {
   "cell_type": "raw",
   "metadata": {},
   "source": [
    "__sentiment_analyzer__ to output the polarity of the text.\n",
    "__sentiment_score__ to display the oplarity and bin scores into 5 categories."
   ]
  },
  {
   "cell_type": "code",
   "execution_count": 188,
   "metadata": {},
   "outputs": [],
   "source": [
    "def sentiment_analyzer(text):\n",
    "    text_blob = TextBlob(text)\n",
    "    return text_blob.sentiment[0]\n",
    "\n",
    "def sentiment_score(text):\n",
    "    sentiment_result = None\n",
    "    text = text_cleaner_(text)\n",
    "    polarity = sentiment_analyzer(text)\n",
    "    if polarity <= -0.6:\n",
    "        sentiment_result = \"Very Bad\"\n",
    "    if polarity > -0.6 and polarity < -0.1:\n",
    "        sentiment_result = \"Bad\"\n",
    "    if polarity < 0.1 and polarity > -0.1:\n",
    "        sentiment_result = \"Neutral\"\n",
    "    if polarity >= 0.1 and polarity < 0.7:\n",
    "        sentiment_result = \"Good\"\n",
    "    if polarity >= 0.7:\n",
    "        sentiment_result = \"Very Good\"\n",
    "    return polarity, sentiment_result"
   ]
  },
  {
   "cell_type": "markdown",
   "metadata": {},
   "source": [
    "Extract Hashtags, Mentions and url from the text. \n",
    "TO DO: Can be scaled to extract more features such as Noun Phrases, adjectives etc using POS tagged data."
   ]
  },
  {
   "cell_type": "code",
   "execution_count": null,
   "metadata": {},
   "outputs": [],
   "source": [
    "def variable_extractor(df, variable = ['mention', 'hashtag', 'link']):\n",
    "    if 'link' in variable:\n",
    "        for row in range(0, len(df)):\n",
    "           df['text_links'][row] = links.findall(df['post_text'][row]) \n",
    "    if 'mention' in variable:\n",
    "        for row in range(0, len(df)):\n",
    "           df['text_links'][row] = mentions.findall(df['post_text'][row]) \n",
    "    if 'hashtag' in variable:\n",
    "        for row in range(0, len(df)):\n",
    "           df['text_links'][row] = hashtags.findall(df['post_text'][row]) \n",
    "    return df\n",
    "\n",
    "def variable_extractor_(text, variable = ['mention', 'hashtag', 'link']):\n",
    "    link, mention, hashtag = \"\", \"\", \"\"\n",
    "    if 'link' in variable:\n",
    "        link = links.findall(text)\n",
    "    if 'mention' in variable:\n",
    "        mention = mentions.findall(text)\n",
    "    if 'hashtag' in variable:\n",
    "        hashtag = hashtags.findall(text)\n",
    "    return link, mention, hashtag"
   ]
  },
  {
   "cell_type": "markdown",
   "metadata": {},
   "source": [
    "Cleaner function to clean mentions, hash tags and stop words from the text. "
   ]
  },
  {
   "cell_type": "code",
   "execution_count": null,
   "metadata": {},
   "outputs": [],
   "source": [
    "def text_cleaner(tweet_data, variable = ['mention', 'hashtag', 'link']):\n",
    "    if 'link' in variable:\n",
    "        for row in range(0, len(df)):\n",
    "            tweet_data['post_text'][row] = links.sub(\"\", tweet_data['post_text'][row])\n",
    "    if 'mention' in variable:\n",
    "        for row in range(0, len(df)):\n",
    "            tweet_data['post_text'][row] = hashtags.sub(\"\", tweet_data['post_text'][row])\n",
    "    if 'hashtag' in variable:\n",
    "        for row in range(0, len(df)):\n",
    "            tweet_data['post_text'][row] = mentions.sub(\"\", tweet_data['post_text'][row])\n",
    "    return tweet_data\n",
    "        \n",
    "def text_cleaner_(text, variable = ['mention', 'hashtag', 'link', 'stopwords']):\n",
    "    if 'link' in variable:\n",
    "        text = links.sub(\"\", text)\n",
    "    if 'mention' in variable:\n",
    "        text = hashtags.sub(\"\", text)\n",
    "    if 'hashtag' in variable:\n",
    "        text = mentions.sub(\"\", text)\n",
    "    if 'stopwords' in variable:\n",
    "        text = \" \".join([word for word in word_tokenize(text) if word not in stop_words])\n",
    "    return text    "
   ]
  },
  {
   "cell_type": "markdown",
   "metadata": {},
   "source": [
    "Extract _\"ORG\"_ and _\"GPE\"_ entities from the text."
   ]
  },
  {
   "cell_type": "code",
   "execution_count": 193,
   "metadata": {},
   "outputs": [],
   "source": [
    "def spacy_ner(text):\n",
    "    text_ = capitalize_mentions(text)\n",
    "    doc = nlp(text_)\n",
    "    place = [(ents.text, ents.label_) for ents in doc.ents if ents.label_ in [\"ORG\", \"GPE\"]]\n",
    "    return place"
   ]
  },
  {
   "cell_type": "markdown",
   "metadata": {},
   "source": [
    "Test the implimentation by passing a single text string."
   ]
  },
  {
   "cell_type": "code",
   "execution_count": 196,
   "metadata": {},
   "outputs": [
    {
     "name": "stdout",
     "output_type": "stream",
     "text": [
      "Enter Text to identify NER and SENTIMENT\n",
      "Milkbarstore, Andpizza join forces on cereal milk-flavored cookies and cream soda\n",
      "Milkbarstore , Andpizza join forces cereal milk-flavored cookies cream soda 0.0\n",
      "Sentiment Score:  (0.0, 'Neutral')\n",
      "Place Entities:  [('Milkbarstore', 'GPE')]\n"
     ]
    }
   ],
   "source": [
    "#19, 21\n",
    "#text = \"Milkbarstore, Andpizza join forces on cereal milk-flavored cookies and cream soda\"\n",
    "print(\"Enter Text to identify NER and SENTIMENT\")\n",
    "text = input()\n",
    "print(\"Sentiment Score: \", sentiment_score(text))\n",
    "print(\"Place Entities: \", spacy_ner(text))"
   ]
  }
 ],
 "metadata": {
  "kernelspec": {
   "display_name": "Python 3",
   "language": "python",
   "name": "python3"
  },
  "language_info": {
   "codemirror_mode": {
    "name": "ipython",
    "version": 3
   },
   "file_extension": ".py",
   "mimetype": "text/x-python",
   "name": "python",
   "nbconvert_exporter": "python",
   "pygments_lexer": "ipython3",
   "version": "3.6.3"
  }
 },
 "nbformat": 4,
 "nbformat_minor": 2
}
